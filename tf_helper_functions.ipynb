{
  "nbformat": 4,
  "nbformat_minor": 0,
  "metadata": {
    "colab": {
      "provenance": []
    },
    "kernelspec": {
      "name": "python3",
      "display_name": "Python 3"
    },
    "language_info": {
      "name": "python"
    }
  },
  "cells": [
    {
      "cell_type": "code",
      "source": [
        "!pip install pyunpack\n",
        "!pip install patool"
      ],
      "metadata": {
        "colab": {
          "base_uri": "https://localhost:8080/"
        },
        "id": "hVQGWN-j6pjM",
        "outputId": "43102062-6561-4538-afce-6320c8b481f6"
      },
      "execution_count": 2,
      "outputs": [
        {
          "output_type": "stream",
          "name": "stdout",
          "text": [
            "Looking in indexes: https://pypi.org/simple, https://us-python.pkg.dev/colab-wheels/public/simple/\n",
            "Collecting pyunpack\n",
            "  Downloading pyunpack-0.3-py2.py3-none-any.whl (4.1 kB)\n",
            "Collecting easyprocess\n",
            "  Downloading EasyProcess-1.1-py3-none-any.whl (8.7 kB)\n",
            "Collecting entrypoint2\n",
            "  Downloading entrypoint2-1.1-py2.py3-none-any.whl (9.9 kB)\n",
            "Installing collected packages: entrypoint2, easyprocess, pyunpack\n",
            "Successfully installed easyprocess-1.1 entrypoint2-1.1 pyunpack-0.3\n",
            "Looking in indexes: https://pypi.org/simple, https://us-python.pkg.dev/colab-wheels/public/simple/\n",
            "Collecting patool\n",
            "  Downloading patool-1.12-py2.py3-none-any.whl (77 kB)\n",
            "\u001b[2K     \u001b[90m━━━━━━━━━━━━━━━━━━━━━━━━━━━━━━━━━━━━━━━━\u001b[0m \u001b[32m77.5/77.5 KB\u001b[0m \u001b[31m2.9 MB/s\u001b[0m eta \u001b[36m0:00:00\u001b[0m\n",
            "\u001b[?25hInstalling collected packages: patool\n",
            "Successfully installed patool-1.12\n"
          ]
        }
      ]
    },
    {
      "cell_type": "code",
      "execution_count": 3,
      "metadata": {
        "id": "-RKfMVlE5n_O"
      },
      "outputs": [],
      "source": [
        "def extract_data(folder):\n",
        "  \"\"\"\n",
        "  Requires pyunpack and patool packages in order to work.\n",
        "  Takes in a .rar folder name as the first argument and extracts data from it.\n",
        "  \"\"\"\n",
        "  import pyunpack\n",
        "  pyunpack.Archive(folder).extractall(\"\")"
      ]
    },
    {
      "cell_type": "code",
      "source": [
        "def parse_data(folder):\n",
        "  \"\"\"\n",
        "  Takes the folder name to parse as the first argument and prints all the names of all the files and directories inside of that folder.\n",
        "  \"\"\"\n",
        "  import os\n",
        "\n",
        "  for dirpath, dirnames, filenames in os.walk(folder):\n",
        "    print(f\"There are {len(filenames)} files and {len(dirnames)} directories in {dirpath}\")"
      ],
      "metadata": {
        "id": "Nm-fesE36BKZ"
      },
      "execution_count": 4,
      "outputs": []
    },
    {
      "cell_type": "code",
      "source": [
        "def list_classes(folder):\n",
        "  \"\"\"\n",
        "  Takes the folder name as the first argument and prints all classes inside of that folder.\n",
        "  \"\"\"\n",
        "  import pathlib\n",
        "  import numpy as np\n",
        "\n",
        "  data_dir = pathlib.Path(folder)\n",
        "  arr = []\n",
        "  for item in data_dir.glob(\"*\"):\n",
        "    arr.append(item.name)\n",
        "  class_names = np.array(arr)\n",
        "  print(class_names)"
      ],
      "metadata": {
        "id": "A415XXM67R9Z"
      },
      "execution_count": 5,
      "outputs": []
    },
    {
      "cell_type": "code",
      "source": [
        "def view_images(folder, class_names, cols=4, rows=1):\n",
        "  \"\"\"\n",
        "  Description:\n",
        "    Displays images inside of a specified folder.\n",
        "  \n",
        "  Arguments:\n",
        "    folder - name of the folder to parse;\n",
        "    class_names - pick classes that will be displayed from the folder;\n",
        "    cols - the number of columns of images;\n",
        "    rows - the number of rows of images; \n",
        "  \"\"\"\n",
        "\n",
        "  import matplotlib.image as mpimg\n",
        "  import matplotlib.pyplot as plt\n",
        "  import random\n",
        "  import os\n",
        "  for i in range(rows):\n",
        "    fig, ax = plt.subplots(figsize=(14,20), ncols=cols)\n",
        "    for a in ax:\n",
        "      random_class_num = random.randint(0, len(class_names)-1)\n",
        "      random_img_num = random.randint(0, len(os.listdir(f\"{folder}/{class_names[random_class_num]}\"))-1)\n",
        "      dir = f\"{folder}/{class_names[random_class_num]}\"\n",
        "      random_img = os.listdir(dir)[random_img_num]\n",
        "      img = mpimg.imread(f\"{dir}/{random_img}\", 0)\n",
        "      a.imshow(img)\n",
        "      a.axis(False)"
      ],
      "metadata": {
        "id": "MfiLwHLy7sTn"
      },
      "execution_count": 7,
      "outputs": []
    },
    {
      "cell_type": "code",
      "source": [],
      "metadata": {
        "id": "a7prO6M68v-i"
      },
      "execution_count": null,
      "outputs": []
    }
  ]
}